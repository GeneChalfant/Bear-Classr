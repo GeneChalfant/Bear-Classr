{
 "cells": [
  {
   "cell_type": "markdown",
   "metadata": {
    "id": "z424xsftOUQ6"
   },
   "source": []
  },
  {
   "cell_type": "markdown",
   "metadata": {
    "id": "kjbXDYl-Yik4"
   },
   "source": [
    "## A Bear Classifier"
   ]
  },
  {
   "cell_type": "markdown",
   "metadata": {
    "id": "gfBScDAMYhWS"
   },
   "source": []
  },
  {
   "cell_type": "code",
   "execution_count": 6,
   "metadata": {
    "colab": {
     "base_uri": "https://localhost:8080/"
    },
    "executionInfo": {
     "elapsed": 8380,
     "status": "ok",
     "timestamp": 1647978913050,
     "user": {
      "displayName": "Turq Mill",
      "photoUrl": "https://lh3.googleusercontent.com/a-/AOh14Gi7gYcm20eLu1ZmgR0XedpuXbY0rLHCL2WTxVQT=s64",
      "userId": "02423650199759241139"
     },
     "user_tz": 420
    },
    "id": "1RzZ3o9aLvYe",
    "outputId": "f38b31d7-056c-494c-9c55-d1291a307c5e",
    "scrolled": true
   },
   "outputs": [
    {
     "name": "stderr",
     "output_type": "stream",
     "text": [
      "WARNING: You are using pip version 21.3.1; however, version 22.0.4 is available.\n",
      "You should consider upgrading via the 'E:\\Anaconda\\python.exe -m pip install --upgrade pip' command.\n"
     ]
    }
   ],
   "source": [
    "!pip install -Uq fastbook"
   ]
  },
  {
   "cell_type": "markdown",
   "metadata": {
    "id": "jFjErM-jYf8Y"
   },
   "source": []
  },
  {
   "cell_type": "code",
   "execution_count": 7,
   "metadata": {
    "colab": {
     "base_uri": "https://localhost:8080/"
    },
    "executionInfo": {
     "elapsed": 28270,
     "status": "ok",
     "timestamp": 1647978968215,
     "user": {
      "displayName": "Turq Mill",
      "photoUrl": "https://lh3.googleusercontent.com/a-/AOh14Gi7gYcm20eLu1ZmgR0XedpuXbY0rLHCL2WTxVQT=s64",
      "userId": "02423650199759241139"
     },
     "user_tz": 420
    },
    "id": "eg9IReF6Mnpp",
    "outputId": "680f0309-9be3-4618-c34a-fba40e053305"
   },
   "outputs": [],
   "source": [
    "import fastbook\n",
    "fastbook.setup_book()"
   ]
  },
  {
   "cell_type": "code",
   "execution_count": 8,
   "metadata": {
    "id": "eQrINJXBMwMG"
   },
   "outputs": [],
   "source": [
    "from fastbook import *\n",
    "from fastai.vision.widgets import *  # for the front end widgets"
   ]
  },
  {
   "cell_type": "code",
   "execution_count": 9,
   "metadata": {
    "colab": {
     "base_uri": "https://localhost:8080/"
    },
    "executionInfo": {
     "elapsed": 293,
     "status": "ok",
     "timestamp": 1647979155035,
     "user": {
      "displayName": "Turq Mill",
      "photoUrl": "https://lh3.googleusercontent.com/a-/AOh14Gi7gYcm20eLu1ZmgR0XedpuXbY0rLHCL2WTxVQT=s64",
      "userId": "02423650199759241139"
     },
     "user_tz": 420
    },
    "id": "CBTRSMQJNTp0",
    "outputId": "6fa73ecc-b667-49a9-e101-1c78f0c3153d"
   },
   "outputs": [
    {
     "data": {
      "text/plain": [
       "(#1) [Path('export.pkl')]"
      ]
     },
     "execution_count": 9,
     "metadata": {},
     "output_type": "execute_result"
    }
   ],
   "source": [
    "path = Path()\n",
    "path.ls(file_exts='.pkl')"
   ]
  },
  {
   "cell_type": "code",
   "execution_count": 5,
   "metadata": {
    "id": "WTufol9UNBMN"
   },
   "outputs": [
    {
     "ename": "FileNotFoundError",
     "evalue": "[Errno 2] No such file or directory: 'export.pkl'",
     "output_type": "error",
     "traceback": [
      "\u001b[1;31m---------------------------------------------------------------------------\u001b[0m",
      "\u001b[1;31mFileNotFoundError\u001b[0m                         Traceback (most recent call last)",
      "\u001b[1;32m~\\AppData\\Local\\Temp/ipykernel_23492/74568536.py\u001b[0m in \u001b[0;36m<module>\u001b[1;34m\u001b[0m\n\u001b[1;32m----> 1\u001b[1;33m \u001b[0mlearn_inf\u001b[0m \u001b[1;33m=\u001b[0m \u001b[0mload_learner\u001b[0m\u001b[1;33m(\u001b[0m\u001b[0mpath\u001b[0m\u001b[1;33m/\u001b[0m\u001b[1;34m'export.pkl'\u001b[0m\u001b[1;33m)\u001b[0m\u001b[1;33m\u001b[0m\u001b[1;33m\u001b[0m\u001b[0m\n\u001b[0m",
      "\u001b[1;32mE:\\Anaconda\\lib\\site-packages\\fastai\\learner.py\u001b[0m in \u001b[0;36mload_learner\u001b[1;34m(fname, cpu, pickle_module)\u001b[0m\n\u001b[0;32m    382\u001b[0m     \u001b[1;34m\"Load a `Learner` object in `fname`, optionally putting it on the `cpu`\"\u001b[0m\u001b[1;33m\u001b[0m\u001b[1;33m\u001b[0m\u001b[0m\n\u001b[0;32m    383\u001b[0m     \u001b[0mdistrib_barrier\u001b[0m\u001b[1;33m(\u001b[0m\u001b[1;33m)\u001b[0m\u001b[1;33m\u001b[0m\u001b[1;33m\u001b[0m\u001b[0m\n\u001b[1;32m--> 384\u001b[1;33m     \u001b[0mres\u001b[0m \u001b[1;33m=\u001b[0m \u001b[0mtorch\u001b[0m\u001b[1;33m.\u001b[0m\u001b[0mload\u001b[0m\u001b[1;33m(\u001b[0m\u001b[0mfname\u001b[0m\u001b[1;33m,\u001b[0m \u001b[0mmap_location\u001b[0m\u001b[1;33m=\u001b[0m\u001b[1;34m'cpu'\u001b[0m \u001b[1;32mif\u001b[0m \u001b[0mcpu\u001b[0m \u001b[1;32melse\u001b[0m \u001b[1;32mNone\u001b[0m\u001b[1;33m,\u001b[0m \u001b[0mpickle_module\u001b[0m\u001b[1;33m=\u001b[0m\u001b[0mpickle_module\u001b[0m\u001b[1;33m)\u001b[0m\u001b[1;33m\u001b[0m\u001b[1;33m\u001b[0m\u001b[0m\n\u001b[0m\u001b[0;32m    385\u001b[0m     \u001b[1;32mif\u001b[0m \u001b[0mhasattr\u001b[0m\u001b[1;33m(\u001b[0m\u001b[0mres\u001b[0m\u001b[1;33m,\u001b[0m \u001b[1;34m'to_fp32'\u001b[0m\u001b[1;33m)\u001b[0m\u001b[1;33m:\u001b[0m \u001b[0mres\u001b[0m \u001b[1;33m=\u001b[0m \u001b[0mres\u001b[0m\u001b[1;33m.\u001b[0m\u001b[0mto_fp32\u001b[0m\u001b[1;33m(\u001b[0m\u001b[1;33m)\u001b[0m\u001b[1;33m\u001b[0m\u001b[1;33m\u001b[0m\u001b[0m\n\u001b[0;32m    386\u001b[0m     \u001b[1;32mif\u001b[0m \u001b[0mcpu\u001b[0m\u001b[1;33m:\u001b[0m \u001b[0mres\u001b[0m\u001b[1;33m.\u001b[0m\u001b[0mdls\u001b[0m\u001b[1;33m.\u001b[0m\u001b[0mcpu\u001b[0m\u001b[1;33m(\u001b[0m\u001b[1;33m)\u001b[0m\u001b[1;33m\u001b[0m\u001b[1;33m\u001b[0m\u001b[0m\n",
      "\u001b[1;32mE:\\Anaconda\\lib\\site-packages\\torch\\serialization.py\u001b[0m in \u001b[0;36mload\u001b[1;34m(f, map_location, pickle_module, **pickle_load_args)\u001b[0m\n\u001b[0;32m    592\u001b[0m         \u001b[0mpickle_load_args\u001b[0m\u001b[1;33m[\u001b[0m\u001b[1;34m'encoding'\u001b[0m\u001b[1;33m]\u001b[0m \u001b[1;33m=\u001b[0m \u001b[1;34m'utf-8'\u001b[0m\u001b[1;33m\u001b[0m\u001b[1;33m\u001b[0m\u001b[0m\n\u001b[0;32m    593\u001b[0m \u001b[1;33m\u001b[0m\u001b[0m\n\u001b[1;32m--> 594\u001b[1;33m     \u001b[1;32mwith\u001b[0m \u001b[0m_open_file_like\u001b[0m\u001b[1;33m(\u001b[0m\u001b[0mf\u001b[0m\u001b[1;33m,\u001b[0m \u001b[1;34m'rb'\u001b[0m\u001b[1;33m)\u001b[0m \u001b[1;32mas\u001b[0m \u001b[0mopened_file\u001b[0m\u001b[1;33m:\u001b[0m\u001b[1;33m\u001b[0m\u001b[1;33m\u001b[0m\u001b[0m\n\u001b[0m\u001b[0;32m    595\u001b[0m         \u001b[1;32mif\u001b[0m \u001b[0m_is_zipfile\u001b[0m\u001b[1;33m(\u001b[0m\u001b[0mopened_file\u001b[0m\u001b[1;33m)\u001b[0m\u001b[1;33m:\u001b[0m\u001b[1;33m\u001b[0m\u001b[1;33m\u001b[0m\u001b[0m\n\u001b[0;32m    596\u001b[0m             \u001b[1;31m# The zipfile reader is going to advance the current file position.\u001b[0m\u001b[1;33m\u001b[0m\u001b[1;33m\u001b[0m\u001b[0m\n",
      "\u001b[1;32mE:\\Anaconda\\lib\\site-packages\\torch\\serialization.py\u001b[0m in \u001b[0;36m_open_file_like\u001b[1;34m(name_or_buffer, mode)\u001b[0m\n\u001b[0;32m    228\u001b[0m \u001b[1;32mdef\u001b[0m \u001b[0m_open_file_like\u001b[0m\u001b[1;33m(\u001b[0m\u001b[0mname_or_buffer\u001b[0m\u001b[1;33m,\u001b[0m \u001b[0mmode\u001b[0m\u001b[1;33m)\u001b[0m\u001b[1;33m:\u001b[0m\u001b[1;33m\u001b[0m\u001b[1;33m\u001b[0m\u001b[0m\n\u001b[0;32m    229\u001b[0m     \u001b[1;32mif\u001b[0m \u001b[0m_is_path\u001b[0m\u001b[1;33m(\u001b[0m\u001b[0mname_or_buffer\u001b[0m\u001b[1;33m)\u001b[0m\u001b[1;33m:\u001b[0m\u001b[1;33m\u001b[0m\u001b[1;33m\u001b[0m\u001b[0m\n\u001b[1;32m--> 230\u001b[1;33m         \u001b[1;32mreturn\u001b[0m \u001b[0m_open_file\u001b[0m\u001b[1;33m(\u001b[0m\u001b[0mname_or_buffer\u001b[0m\u001b[1;33m,\u001b[0m \u001b[0mmode\u001b[0m\u001b[1;33m)\u001b[0m\u001b[1;33m\u001b[0m\u001b[1;33m\u001b[0m\u001b[0m\n\u001b[0m\u001b[0;32m    231\u001b[0m     \u001b[1;32melse\u001b[0m\u001b[1;33m:\u001b[0m\u001b[1;33m\u001b[0m\u001b[1;33m\u001b[0m\u001b[0m\n\u001b[0;32m    232\u001b[0m         \u001b[1;32mif\u001b[0m \u001b[1;34m'w'\u001b[0m \u001b[1;32min\u001b[0m \u001b[0mmode\u001b[0m\u001b[1;33m:\u001b[0m\u001b[1;33m\u001b[0m\u001b[1;33m\u001b[0m\u001b[0m\n",
      "\u001b[1;32mE:\\Anaconda\\lib\\site-packages\\torch\\serialization.py\u001b[0m in \u001b[0;36m__init__\u001b[1;34m(self, name, mode)\u001b[0m\n\u001b[0;32m    209\u001b[0m \u001b[1;32mclass\u001b[0m \u001b[0m_open_file\u001b[0m\u001b[1;33m(\u001b[0m\u001b[0m_opener\u001b[0m\u001b[1;33m)\u001b[0m\u001b[1;33m:\u001b[0m\u001b[1;33m\u001b[0m\u001b[1;33m\u001b[0m\u001b[0m\n\u001b[0;32m    210\u001b[0m     \u001b[1;32mdef\u001b[0m \u001b[0m__init__\u001b[0m\u001b[1;33m(\u001b[0m\u001b[0mself\u001b[0m\u001b[1;33m,\u001b[0m \u001b[0mname\u001b[0m\u001b[1;33m,\u001b[0m \u001b[0mmode\u001b[0m\u001b[1;33m)\u001b[0m\u001b[1;33m:\u001b[0m\u001b[1;33m\u001b[0m\u001b[1;33m\u001b[0m\u001b[0m\n\u001b[1;32m--> 211\u001b[1;33m         \u001b[0msuper\u001b[0m\u001b[1;33m(\u001b[0m\u001b[0m_open_file\u001b[0m\u001b[1;33m,\u001b[0m \u001b[0mself\u001b[0m\u001b[1;33m)\u001b[0m\u001b[1;33m.\u001b[0m\u001b[0m__init__\u001b[0m\u001b[1;33m(\u001b[0m\u001b[0mopen\u001b[0m\u001b[1;33m(\u001b[0m\u001b[0mname\u001b[0m\u001b[1;33m,\u001b[0m \u001b[0mmode\u001b[0m\u001b[1;33m)\u001b[0m\u001b[1;33m)\u001b[0m\u001b[1;33m\u001b[0m\u001b[1;33m\u001b[0m\u001b[0m\n\u001b[0m\u001b[0;32m    212\u001b[0m \u001b[1;33m\u001b[0m\u001b[0m\n\u001b[0;32m    213\u001b[0m     \u001b[1;32mdef\u001b[0m \u001b[0m__exit__\u001b[0m\u001b[1;33m(\u001b[0m\u001b[0mself\u001b[0m\u001b[1;33m,\u001b[0m \u001b[1;33m*\u001b[0m\u001b[0margs\u001b[0m\u001b[1;33m)\u001b[0m\u001b[1;33m:\u001b[0m\u001b[1;33m\u001b[0m\u001b[1;33m\u001b[0m\u001b[0m\n",
      "\u001b[1;31mFileNotFoundError\u001b[0m: [Errno 2] No such file or directory: 'export.pkl'"
     ]
    }
   ],
   "source": [
    "learn_inf = load_learner(path/'export.pkl')"
   ]
  },
  {
   "cell_type": "code",
   "execution_count": null,
   "metadata": {
    "colab": {
     "base_uri": "https://localhost:8080/",
     "height": 212,
     "referenced_widgets": [
      "06e62da2196043b6876f2af35d20e322",
      "a713b7351dad4827bdc684e058f2c0e3",
      "18d64a6308a643f4be147d18a286ac9f",
      "4146252417ef4e6daa5114c0c695c08e",
      "b0748198c82b4beeb3a660cea3ece0c2",
      "aa3f2db695874642a02d7cc984179d40",
      "4c359b5180a3487a91cd4326a1880346",
      "5ce87ed5eaa340b99b022254c304f0a4",
      "75c43433b514470a8c0422be7b514f47",
      "a72301b0aa2041e3bedaa5d7301bb381",
      "d6491b27be2347fcb9f17da472b5f64f",
      "b00e573f8389401aa4b2ccb4bec9b550",
      "518ce0c821344812b78e6120254b2e25",
      "024022117c2745e18002b9c7db113715",
      "3e000668647a45cd81cc072348e747e1",
      "f8af5783b5284d1c92aecf13b62ab8a0"
     ]
    },
    "executionInfo": {
     "elapsed": 283,
     "status": "ok",
     "timestamp": 1647981478009,
     "user": {
      "displayName": "Turq Mill",
      "photoUrl": "https://lh3.googleusercontent.com/a-/AOh14Gi7gYcm20eLu1ZmgR0XedpuXbY0rLHCL2WTxVQT=s64",
      "userId": "02423650199759241139"
     },
     "user_tz": 420
    },
    "id": "dmaA1cYwSavq",
    "outputId": "587ecba9-cc85-4e65-d65d-edd65b2c42cf"
   },
   "outputs": [],
   "source": [
    "# define the widgets\n",
    "lbl_title = widgets.Label('Bear Classr')\n",
    "btn_upload = widgets.FileUpload()\n",
    "img_disp = widgets.Output()\n",
    "lbl_pred = widgets.Label()\n",
    "btn_go = widgets.Button(description='Classify')\n",
    "\n",
    "# define the prediction callback function\n",
    "def on_click_predict(change):\n",
    "  img = PILImage.create(btn_upload.data[-1])\n",
    "  img_disp.clear_output()\n",
    "  with img_disp: display(img.to_thumb(128,128))\n",
    "  pred, pred_idx, probs = learn_inf.predict(img)\n",
    "  lbl_pred.value = f'Prediction: {pred}; Probability: {probs[pred_idx]:.04f}'\n",
    "\n",
    "btn_go.on_click(on_click_predict)\n",
    "\n",
    "# define a box\n",
    "VBox([widgets.Label('Check your bear!'),\n",
    "      btn_upload, btn_go, img_disp, lbl_pred])"
   ]
  },
  {
   "cell_type": "code",
   "execution_count": null,
   "metadata": {
    "colab": {
     "base_uri": "https://localhost:8080/"
    },
    "executionInfo": {
     "elapsed": 8568,
     "status": "ok",
     "timestamp": 1647982134473,
     "user": {
      "displayName": "Turq Mill",
      "photoUrl": "https://lh3.googleusercontent.com/a-/AOh14Gi7gYcm20eLu1ZmgR0XedpuXbY0rLHCL2WTxVQT=s64",
      "userId": "02423650199759241139"
     },
     "user_tz": 420
    },
    "id": "_QfeRmtjYtXx",
    "outputId": "e2e8ec74-3d61-434f-ed4f-6c565733103d"
   },
   "outputs": [],
   "source": [
    "!pip install -Uq voila\n",
    "!jupyter serverextension enable --sys-prefix voila"
   ]
  },
  {
   "cell_type": "code",
   "execution_count": null,
   "metadata": {
    "id": "dMBdCWeGY6HW"
   },
   "outputs": [],
   "source": []
  }
 ],
 "metadata": {
  "colab": {
   "authorship_tag": "ABX9TyOiW/LQNvFkliFWTqpsxO8i",
   "collapsed_sections": [],
   "name": "Bear Classr voila server.ipynb",
   "provenance": [
    {
     "file_id": "1rXrOTq54POo0X1T2SrsHbDcwgdjIA5ss",
     "timestamp": 1647981956468
    }
   ]
  },
  "kernelspec": {
   "display_name": "Python 3 (ipykernel)",
   "language": "python",
   "name": "python3"
  },
  "language_info": {
   "codemirror_mode": {
    "name": "ipython",
    "version": 3
   },
   "file_extension": ".py",
   "mimetype": "text/x-python",
   "name": "python",
   "nbconvert_exporter": "python",
   "pygments_lexer": "ipython3",
   "version": "3.9.7"
  },
  "widgets": {
   "application/vnd.jupyter.widget-state+json": {
    "024022117c2745e18002b9c7db113715": {
     "model_module": "@jupyter-widgets/base",
     "model_module_version": "1.2.0",
     "model_name": "LayoutModel",
     "state": {
      "_model_module": "@jupyter-widgets/base",
      "_model_module_version": "1.2.0",
      "_model_name": "LayoutModel",
      "_view_count": null,
      "_view_module": "@jupyter-widgets/base",
      "_view_module_version": "1.2.0",
      "_view_name": "LayoutView",
      "align_content": null,
      "align_items": null,
      "align_self": null,
      "border": null,
      "bottom": null,
      "display": null,
      "flex": null,
      "flex_flow": null,
      "grid_area": null,
      "grid_auto_columns": null,
      "grid_auto_flow": null,
      "grid_auto_rows": null,
      "grid_column": null,
      "grid_gap": null,
      "grid_row": null,
      "grid_template_areas": null,
      "grid_template_columns": null,
      "grid_template_rows": null,
      "height": null,
      "justify_content": null,
      "justify_items": null,
      "left": null,
      "margin": null,
      "max_height": null,
      "max_width": null,
      "min_height": null,
      "min_width": null,
      "object_fit": null,
      "object_position": null,
      "order": null,
      "overflow": null,
      "overflow_x": null,
      "overflow_y": null,
      "padding": null,
      "right": null,
      "top": null,
      "visibility": null,
      "width": null
     }
    },
    "06e62da2196043b6876f2af35d20e322": {
     "model_module": "@jupyter-widgets/controls",
     "model_module_version": "1.5.0",
     "model_name": "VBoxModel",
     "state": {
      "_dom_classes": [],
      "_model_module": "@jupyter-widgets/controls",
      "_model_module_version": "1.5.0",
      "_model_name": "VBoxModel",
      "_view_count": null,
      "_view_module": "@jupyter-widgets/controls",
      "_view_module_version": "1.5.0",
      "_view_name": "VBoxView",
      "box_style": "",
      "children": [
       "IPY_MODEL_a713b7351dad4827bdc684e058f2c0e3",
       "IPY_MODEL_18d64a6308a643f4be147d18a286ac9f",
       "IPY_MODEL_4146252417ef4e6daa5114c0c695c08e",
       "IPY_MODEL_b0748198c82b4beeb3a660cea3ece0c2",
       "IPY_MODEL_aa3f2db695874642a02d7cc984179d40"
      ],
      "layout": "IPY_MODEL_4c359b5180a3487a91cd4326a1880346"
     }
    },
    "18d64a6308a643f4be147d18a286ac9f": {
     "model_module": "@jupyter-widgets/controls",
     "model_module_version": "1.5.0",
     "model_name": "FileUploadModel",
     "state": {
      "_counter": 3,
      "_dom_classes": [],
      "_model_module": "@jupyter-widgets/controls",
      "_model_module_version": "1.5.0",
      "_model_name": "FileUploadModel",
      "_view_count": null,
      "_view_module": "@jupyter-widgets/controls",
      "_view_module_version": "1.5.0",
      "_view_name": "FileUploadView",
      "accept": "",
      "button_style": "",
      "data": [
       null
      ],
      "description": "Upload",
      "description_tooltip": null,
      "disabled": false,
      "error": "",
      "icon": "upload",
      "layout": "IPY_MODEL_a72301b0aa2041e3bedaa5d7301bb381",
      "metadata": [
       {
        "lastModified": 1647981533367,
        "name": "russian bear.jpg",
        "size": 29453,
        "type": "image/jpeg"
       }
      ],
      "multiple": false,
      "style": "IPY_MODEL_d6491b27be2347fcb9f17da472b5f64f"
     }
    },
    "3e000668647a45cd81cc072348e747e1": {
     "model_module": "@jupyter-widgets/controls",
     "model_module_version": "1.5.0",
     "model_name": "DescriptionStyleModel",
     "state": {
      "_model_module": "@jupyter-widgets/controls",
      "_model_module_version": "1.5.0",
      "_model_name": "DescriptionStyleModel",
      "_view_count": null,
      "_view_module": "@jupyter-widgets/base",
      "_view_module_version": "1.2.0",
      "_view_name": "StyleView",
      "description_width": ""
     }
    },
    "4146252417ef4e6daa5114c0c695c08e": {
     "model_module": "@jupyter-widgets/controls",
     "model_module_version": "1.5.0",
     "model_name": "ButtonModel",
     "state": {
      "_dom_classes": [],
      "_model_module": "@jupyter-widgets/controls",
      "_model_module_version": "1.5.0",
      "_model_name": "ButtonModel",
      "_view_count": null,
      "_view_module": "@jupyter-widgets/controls",
      "_view_module_version": "1.5.0",
      "_view_name": "ButtonView",
      "button_style": "",
      "description": "Classify",
      "disabled": false,
      "icon": "",
      "layout": "IPY_MODEL_b00e573f8389401aa4b2ccb4bec9b550",
      "style": "IPY_MODEL_518ce0c821344812b78e6120254b2e25",
      "tooltip": ""
     }
    },
    "4c359b5180a3487a91cd4326a1880346": {
     "model_module": "@jupyter-widgets/base",
     "model_module_version": "1.2.0",
     "model_name": "LayoutModel",
     "state": {
      "_model_module": "@jupyter-widgets/base",
      "_model_module_version": "1.2.0",
      "_model_name": "LayoutModel",
      "_view_count": null,
      "_view_module": "@jupyter-widgets/base",
      "_view_module_version": "1.2.0",
      "_view_name": "LayoutView",
      "align_content": null,
      "align_items": null,
      "align_self": null,
      "border": null,
      "bottom": null,
      "display": null,
      "flex": null,
      "flex_flow": null,
      "grid_area": null,
      "grid_auto_columns": null,
      "grid_auto_flow": null,
      "grid_auto_rows": null,
      "grid_column": null,
      "grid_gap": null,
      "grid_row": null,
      "grid_template_areas": null,
      "grid_template_columns": null,
      "grid_template_rows": null,
      "height": null,
      "justify_content": null,
      "justify_items": null,
      "left": null,
      "margin": null,
      "max_height": null,
      "max_width": null,
      "min_height": null,
      "min_width": null,
      "object_fit": null,
      "object_position": null,
      "order": null,
      "overflow": null,
      "overflow_x": null,
      "overflow_y": null,
      "padding": null,
      "right": null,
      "top": null,
      "visibility": null,
      "width": null
     }
    },
    "518ce0c821344812b78e6120254b2e25": {
     "model_module": "@jupyter-widgets/controls",
     "model_module_version": "1.5.0",
     "model_name": "ButtonStyleModel",
     "state": {
      "_model_module": "@jupyter-widgets/controls",
      "_model_module_version": "1.5.0",
      "_model_name": "ButtonStyleModel",
      "_view_count": null,
      "_view_module": "@jupyter-widgets/base",
      "_view_module_version": "1.2.0",
      "_view_name": "StyleView",
      "button_color": null,
      "font_weight": ""
     }
    },
    "5ce87ed5eaa340b99b022254c304f0a4": {
     "model_module": "@jupyter-widgets/base",
     "model_module_version": "1.2.0",
     "model_name": "LayoutModel",
     "state": {
      "_model_module": "@jupyter-widgets/base",
      "_model_module_version": "1.2.0",
      "_model_name": "LayoutModel",
      "_view_count": null,
      "_view_module": "@jupyter-widgets/base",
      "_view_module_version": "1.2.0",
      "_view_name": "LayoutView",
      "align_content": null,
      "align_items": null,
      "align_self": null,
      "border": null,
      "bottom": null,
      "display": null,
      "flex": null,
      "flex_flow": null,
      "grid_area": null,
      "grid_auto_columns": null,
      "grid_auto_flow": null,
      "grid_auto_rows": null,
      "grid_column": null,
      "grid_gap": null,
      "grid_row": null,
      "grid_template_areas": null,
      "grid_template_columns": null,
      "grid_template_rows": null,
      "height": null,
      "justify_content": null,
      "justify_items": null,
      "left": null,
      "margin": null,
      "max_height": null,
      "max_width": null,
      "min_height": null,
      "min_width": null,
      "object_fit": null,
      "object_position": null,
      "order": null,
      "overflow": null,
      "overflow_x": null,
      "overflow_y": null,
      "padding": null,
      "right": null,
      "top": null,
      "visibility": null,
      "width": null
     }
    },
    "75c43433b514470a8c0422be7b514f47": {
     "model_module": "@jupyter-widgets/controls",
     "model_module_version": "1.5.0",
     "model_name": "DescriptionStyleModel",
     "state": {
      "_model_module": "@jupyter-widgets/controls",
      "_model_module_version": "1.5.0",
      "_model_name": "DescriptionStyleModel",
      "_view_count": null,
      "_view_module": "@jupyter-widgets/base",
      "_view_module_version": "1.2.0",
      "_view_name": "StyleView",
      "description_width": ""
     }
    },
    "a713b7351dad4827bdc684e058f2c0e3": {
     "model_module": "@jupyter-widgets/controls",
     "model_module_version": "1.5.0",
     "model_name": "LabelModel",
     "state": {
      "_dom_classes": [],
      "_model_module": "@jupyter-widgets/controls",
      "_model_module_version": "1.5.0",
      "_model_name": "LabelModel",
      "_view_count": null,
      "_view_module": "@jupyter-widgets/controls",
      "_view_module_version": "1.5.0",
      "_view_name": "LabelView",
      "description": "",
      "description_tooltip": null,
      "layout": "IPY_MODEL_5ce87ed5eaa340b99b022254c304f0a4",
      "placeholder": "​",
      "style": "IPY_MODEL_75c43433b514470a8c0422be7b514f47",
      "value": "Check your bear!"
     }
    },
    "a72301b0aa2041e3bedaa5d7301bb381": {
     "model_module": "@jupyter-widgets/base",
     "model_module_version": "1.2.0",
     "model_name": "LayoutModel",
     "state": {
      "_model_module": "@jupyter-widgets/base",
      "_model_module_version": "1.2.0",
      "_model_name": "LayoutModel",
      "_view_count": null,
      "_view_module": "@jupyter-widgets/base",
      "_view_module_version": "1.2.0",
      "_view_name": "LayoutView",
      "align_content": null,
      "align_items": null,
      "align_self": null,
      "border": null,
      "bottom": null,
      "display": null,
      "flex": null,
      "flex_flow": null,
      "grid_area": null,
      "grid_auto_columns": null,
      "grid_auto_flow": null,
      "grid_auto_rows": null,
      "grid_column": null,
      "grid_gap": null,
      "grid_row": null,
      "grid_template_areas": null,
      "grid_template_columns": null,
      "grid_template_rows": null,
      "height": null,
      "justify_content": null,
      "justify_items": null,
      "left": null,
      "margin": null,
      "max_height": null,
      "max_width": null,
      "min_height": null,
      "min_width": null,
      "object_fit": null,
      "object_position": null,
      "order": null,
      "overflow": null,
      "overflow_x": null,
      "overflow_y": null,
      "padding": null,
      "right": null,
      "top": null,
      "visibility": null,
      "width": null
     }
    },
    "aa3f2db695874642a02d7cc984179d40": {
     "model_module": "@jupyter-widgets/controls",
     "model_module_version": "1.5.0",
     "model_name": "LabelModel",
     "state": {
      "_dom_classes": [],
      "_model_module": "@jupyter-widgets/controls",
      "_model_module_version": "1.5.0",
      "_model_name": "LabelModel",
      "_view_count": null,
      "_view_module": "@jupyter-widgets/controls",
      "_view_module_version": "1.5.0",
      "_view_name": "LabelView",
      "description": "",
      "description_tooltip": null,
      "layout": "IPY_MODEL_024022117c2745e18002b9c7db113715",
      "placeholder": "​",
      "style": "IPY_MODEL_3e000668647a45cd81cc072348e747e1",
      "value": "Prediction: grizzly; Probability: 1.0000"
     }
    },
    "b00e573f8389401aa4b2ccb4bec9b550": {
     "model_module": "@jupyter-widgets/base",
     "model_module_version": "1.2.0",
     "model_name": "LayoutModel",
     "state": {
      "_model_module": "@jupyter-widgets/base",
      "_model_module_version": "1.2.0",
      "_model_name": "LayoutModel",
      "_view_count": null,
      "_view_module": "@jupyter-widgets/base",
      "_view_module_version": "1.2.0",
      "_view_name": "LayoutView",
      "align_content": null,
      "align_items": null,
      "align_self": null,
      "border": null,
      "bottom": null,
      "display": null,
      "flex": null,
      "flex_flow": null,
      "grid_area": null,
      "grid_auto_columns": null,
      "grid_auto_flow": null,
      "grid_auto_rows": null,
      "grid_column": null,
      "grid_gap": null,
      "grid_row": null,
      "grid_template_areas": null,
      "grid_template_columns": null,
      "grid_template_rows": null,
      "height": null,
      "justify_content": null,
      "justify_items": null,
      "left": null,
      "margin": null,
      "max_height": null,
      "max_width": null,
      "min_height": null,
      "min_width": null,
      "object_fit": null,
      "object_position": null,
      "order": null,
      "overflow": null,
      "overflow_x": null,
      "overflow_y": null,
      "padding": null,
      "right": null,
      "top": null,
      "visibility": null,
      "width": null
     }
    },
    "b0748198c82b4beeb3a660cea3ece0c2": {
     "model_module": "@jupyter-widgets/output",
     "model_module_version": "1.0.0",
     "model_name": "OutputModel",
     "state": {
      "_dom_classes": [],
      "_model_module": "@jupyter-widgets/output",
      "_model_module_version": "1.0.0",
      "_model_name": "OutputModel",
      "_view_count": null,
      "_view_module": "@jupyter-widgets/output",
      "_view_module_version": "1.0.0",
      "_view_name": "OutputView",
      "layout": "IPY_MODEL_f8af5783b5284d1c92aecf13b62ab8a0",
      "msg_id": "",
      "outputs": [
       {
        "data": {
         "image/png": "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\n",
         "text/plain": "<PIL.Image.Image image mode=RGB size=128x67 at 0x7F0BFB6A1790>"
        },
        "metadata": {},
        "output_type": "display_data"
       }
      ]
     }
    },
    "d6491b27be2347fcb9f17da472b5f64f": {
     "model_module": "@jupyter-widgets/controls",
     "model_module_version": "1.5.0",
     "model_name": "ButtonStyleModel",
     "state": {
      "_model_module": "@jupyter-widgets/controls",
      "_model_module_version": "1.5.0",
      "_model_name": "ButtonStyleModel",
      "_view_count": null,
      "_view_module": "@jupyter-widgets/base",
      "_view_module_version": "1.2.0",
      "_view_name": "StyleView",
      "button_color": null,
      "font_weight": ""
     }
    },
    "f8af5783b5284d1c92aecf13b62ab8a0": {
     "model_module": "@jupyter-widgets/base",
     "model_module_version": "1.2.0",
     "model_name": "LayoutModel",
     "state": {
      "_model_module": "@jupyter-widgets/base",
      "_model_module_version": "1.2.0",
      "_model_name": "LayoutModel",
      "_view_count": null,
      "_view_module": "@jupyter-widgets/base",
      "_view_module_version": "1.2.0",
      "_view_name": "LayoutView",
      "align_content": null,
      "align_items": null,
      "align_self": null,
      "border": null,
      "bottom": null,
      "display": null,
      "flex": null,
      "flex_flow": null,
      "grid_area": null,
      "grid_auto_columns": null,
      "grid_auto_flow": null,
      "grid_auto_rows": null,
      "grid_column": null,
      "grid_gap": null,
      "grid_row": null,
      "grid_template_areas": null,
      "grid_template_columns": null,
      "grid_template_rows": null,
      "height": null,
      "justify_content": null,
      "justify_items": null,
      "left": null,
      "margin": null,
      "max_height": null,
      "max_width": null,
      "min_height": null,
      "min_width": null,
      "object_fit": null,
      "object_position": null,
      "order": null,
      "overflow": null,
      "overflow_x": null,
      "overflow_y": null,
      "padding": null,
      "right": null,
      "top": null,
      "visibility": null,
      "width": null
     }
    }
   }
  }
 },
 "nbformat": 4,
 "nbformat_minor": 1
}
